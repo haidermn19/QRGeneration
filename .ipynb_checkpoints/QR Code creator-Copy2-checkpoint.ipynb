{
 "cells": [
  {
   "cell_type": "markdown",
   "id": "9a521749",
   "metadata": {},
   "source": [
    "# PYTHON QR CODE"
   ]
  },
  {
   "cell_type": "markdown",
   "id": "b6681f01",
   "metadata": {},
   "source": [
    "## 1)installing and importing modules"
   ]
  },
  {
   "cell_type": "code",
   "execution_count": 19,
   "id": "9e24d7ec",
   "metadata": {},
   "outputs": [
    {
     "name": "stdout",
     "output_type": "stream",
     "text": [
      "Requirement already satisfied: pillow in c:\\users\\haider mustafa\\anaconda3\\lib\\site-packages (8.2.0)\n"
     ]
    }
   ],
   "source": [
    "#! pip install opencv-python\n",
    "#! pip install pyqrcode\n",
    "#! pip install qrcode\n",
    "#! pip install pypng\n",
    "#! pip install cv\n",
    "! pip install pillow\n",
    "#! pip install MyQR\n",
    "#! pip install segno\n",
    "#! pip install qrcode-artistic\n"
   ]
  },
  {
   "cell_type": "code",
   "execution_count": null,
   "id": "681e46c8",
   "metadata": {},
   "outputs": [],
   "source": [
    "import pyqrcode\n",
    "#from PIL import Image,ImageOps\n",
    "import cv2\n",
    "import numpy as np\n",
    "#from PIL import Image, ImageDraw, ImageFilter\n",
    "import segno\n",
    "#import pillow\n",
    "\n"
   ]
  },
  {
   "cell_type": "markdown",
   "id": "a7d7845b",
   "metadata": {},
   "source": [
    "## 2)Creating QR code"
   ]
  },
  {
   "cell_type": "code",
   "execution_count": null,
   "id": "701429e8",
   "metadata": {},
   "outputs": [],
   "source": [
    "for i in range (1,6):\n",
    "    name='A'+ str(i)\n",
    "\n",
    "\n",
    "    qr = segno.make('THE ID OF THIS PRODUCT IS : '+name,micro=False, mask=7)\n",
    "\n",
    "\n",
    "    img = qr.to_pil(scale=30,\n",
    "                border=0,\n",
    "                dark=(218,84,105),\n",
    "                light='white',\n",
    "                finder_dark='gray',\n",
    "                alignment_dark=(218,84,105),\n",
    "                data_dark=(218,84,105)\n",
    "                )\n",
    "                \n",
    "    img.save('./QRCODES/'+name+' finalQR.png')\n",
    "\n",
    "\n"
   ]
  },
  {
   "cell_type": "markdown",
   "id": "cff47318",
   "metadata": {},
   "source": [
    "## 3)Adding background to the QR code"
   ]
  },
  {
   "cell_type": "code",
   "execution_count": 23,
   "id": "b63b09d3",
   "metadata": {},
   "outputs": [],
   "source": [
    "im1 = Image.open('./RESOURCES/background.jpg')\n",
    "im2 = Image.open('./QRCODES/'+name+' finalQR.png')\n",
    "\n",
    "back_im = im1.copy()\n",
    "\n",
    "back_im.paste(im2,(241,226))\n",
    "\n",
    "back_im.save('./QRCODES/'+name+' finalQR.png', quality=100)\n"
   ]
  },
  {
   "cell_type": "markdown",
   "id": "714a115a",
   "metadata": {},
   "source": [
    "## 4)Resizing the final QR code(the one with bg)"
   ]
  },
  {
   "cell_type": "code",
   "execution_count": 24,
   "id": "4beca781",
   "metadata": {},
   "outputs": [],
   "source": [
    "basewidth = 70\n",
    "img = Image.open('./QRCODES/'+name+' finalQR.png')\n",
    "wpercent = (basewidth / float(img.size[0]))\n",
    "hsize = int((float(img.size[1]) * float(wpercent)))\n",
    "img = img.resize((basewidth, hsize), Image.ANTIALIAS)\n",
    "img.save('./QRCODES/'+name+' finalQR.png',quality=100)"
   ]
  },
  {
   "cell_type": "markdown",
   "id": "71dce9bd",
   "metadata": {},
   "source": [
    "## 5)Adding white border to final QR code\n",
    "\n"
   ]
  },
  {
   "cell_type": "code",
   "execution_count": 47,
   "id": "ad0cb1f9",
   "metadata": {},
   "outputs": [],
   "source": [
    "# open image\n",
    "img = Image.open(\"./QRCODES/\"+name+\" finalQR.png\")\n",
    "\n",
    "# border color\n",
    "color = \"black\"\n",
    "\n",
    "# top, right, bottom, left\n",
    "border = (10, 1, 10, 1)\n",
    "\n",
    "new_img = ImageOps.expand(img, border=border, fill=color)\n",
    "\n",
    "# save new image\n",
    "new_img.save('./QRCODES/'+name+' finalQR.png')"
   ]
  },
  {
   "cell_type": "markdown",
   "id": "28f99bc4",
   "metadata": {},
   "source": [
    "## 6)Pasting QR code onto the image"
   ]
  },
  {
   "cell_type": "code",
   "execution_count": 57,
   "id": "93e80088",
   "metadata": {},
   "outputs": [
    {
     "name": "stdout",
     "output_type": "stream",
     "text": [
      "Enter the no to be printed on 1st QR code:1\n",
      "Enter the no to be printed on last QR code:4\n",
      "Enter Alphabet to be printed on the 1st QR code:A\n",
      "Enter max no of bags that can fit into the BIG bag:10\n",
      "Enter the no on the file name of the 1st bag image(on which 1st QR code is to be attached):1\n",
      "QR codes added sucessfully.........\n"
     ]
    }
   ],
   "source": [
    "im1 = Image.open('./Bag Images/download.jpg')\n",
    "im2 = Image.open('./QRCODES/'+name+' finalQR.png')\n",
    "\n",
    "back_im = im1.copy()\n",
    "pos = (im1.size[0] - im2.size[0], im1.size[1] - im2.size[1])\n",
    "back_im.paste(im2,pos)\n",
    "back_im.save('./OUTPUT/'+name+'.png', quality=1000)\n",
    "\n",
    "\n"
   ]
  },
  {
   "cell_type": "markdown",
   "id": "cbd082a3",
   "metadata": {},
   "source": [
    "# FINAL PROGRAM ALL TOGETHER"
   ]
  },
  {
   "cell_type": "code",
   "execution_count": 65,
   "id": "c78125ea",
   "metadata": {},
   "outputs": [
    {
     "name": "stdout",
     "output_type": "stream",
     "text": [
      "Enter 1 if you want to manually enter data which is to be written in the QR code\n",
      "\n",
      "Enter 2 if you want to automatically enter data in the QR code using the database\n",
      "\n",
      "Enter your choice(1/2):1\n",
      "Enter the no to be printed on 1st QR code:1\n",
      "Enter the no to be printed on last QR code:6\n",
      "Enter Alphabet to be printed on the 1st QR code:a\n",
      "Enter max no of bags that can fit into the BIG bag:10\n",
      "Enter the no on the file name of the 1st bag image(on which 1st QR code is to be attached):14\n",
      "QR codes added sucessfully.........\n",
      "QR codes created and added sucessfully.........\n"
     ]
    }
   ],
   "source": [
    "def creating_qr_code_WITH_USER_INPUTTED_VALUES():\n",
    "    alpha=ord(useralpha)\n",
    "    for i in range (n,m+1):\n",
    "        name=chr(alpha)+ str(i)\n",
    "        qr = segno.make('THE ID OF THIS PRODUCT IS : '+name,micro=False, mask=7)\n",
    "        img = qr.to_pil(scale=30, \n",
    "                    border=0,\n",
    "                    dark=(218,84,105),\n",
    "                    light='white',\n",
    "                    finder_dark='gray',\n",
    "                    alignment_dark=(218,84,105),\n",
    "                    data_dark=(218,84,105)\n",
    "                    )\n",
    "        img.save('./QRCODES/'+name+' finalQR.png')\n",
    "        \n",
    "        if i % max_no_bags==0:\n",
    "            alpha=alpha+1\n",
    "            \n",
    "        \n",
    "        # ADDING BACKGROUND DESIGN\n",
    "        im1 = Image.open('./RESOURCES/background.jpg')\n",
    "        im2 = Image.open('./QRCODES/'+name+' finalQR.png')\n",
    "        \n",
    "        back_im = im1.copy()\n",
    "        back_im.paste(im2,(241,226))\n",
    "        back_im.save('./QRCODES/'+name+' finalQR.png', quality=100)\n",
    "        \n",
    "        \n",
    "        #RESIZING THE QRCODE\n",
    "        \n",
    "        basewidth = 70\n",
    "        img = Image.open('./QRCODES/'+name+' finalQR.png')\n",
    "        wpercent = (basewidth / float(img.size[0]))\n",
    "        hsize = int((float(img.size[1]) * float(wpercent)))\n",
    "        img = img.resize((basewidth, hsize), Image.ANTIALIAS)\n",
    "        img.save('./QRCODES/'+name+' finalQR.png',quality=100)\n",
    "        \n",
    "        j=(a-1)+i\n",
    "        bag_img_name='download'+str(j)                          #CAN BE EDITED BASED ON SITUATION\n",
    "        im1 = Image.open('./Bag Images/'+bag_img_name+'.jpg')\n",
    "        im2 = Image.open('./QRCODES/'+name+' finalQR.png')\n",
    "        back_im = im1.copy()\n",
    "        pos = (im1.size[0] - im2.size[0], im1.size[1] - im2.size[1])\n",
    "        back_im.paste(im2,pos)\n",
    "        back_im.save('./OUTPUT/'+name+'.png', quality=1000)\n",
    "    \n",
    "    \n",
    "        \n",
    "    \n",
    "    \n",
    "\n",
    "\n",
    "################################################################################################################################\n",
    "\n",
    "#FINALLY CALLING ALL FUNCTIONS\n",
    "\n",
    "# importing the required modules\n",
    "\n",
    "import pyqrcode\n",
    "from PIL import Image,ImageOps\n",
    "import cv2\n",
    "import numpy as np\n",
    "from PIL import Image, ImageDraw, ImageFilter\n",
    "import segno\n",
    "#import pillow\n",
    "\n",
    "\n",
    "print(\"Enter 1 if you want to manually enter data which is to be written in the QR code\")\n",
    "print()\n",
    "print(\"Enter 2 if you want to automatically enter data in the QR code using the database\")\n",
    "print()\n",
    "ch_during_creating_qr_code=int(input(\"Enter your choice(1/2):\"))\n",
    "if ch_during_creating_qr_code==1:\n",
    "    n=int(input(\"Enter the no to be printed on 1st QR code:\"))\n",
    "    m=int(input(\"Enter the no to be printed on last QR code:\"))\n",
    "    useralpha1=input(\"Enter Alphabet to be printed on the 1st QR code:\")\n",
    "    useralpha=useralpha1.upper()\n",
    "    \n",
    "    \n",
    "    max_no_bags=int(input(\"Enter max no of bags that can fit into the BIG bag:\"))\n",
    "    \n",
    "    a=int(input(\"Enter the no on the file name of the 1st bag image(on which 1st QR code is to be attached):\"))\n",
    "    \n",
    "    \n",
    "    creating_qr_code_WITH_USER_INPUTTED_VALUES()\n",
    "    adding_QR_codes_to_the_bag_images()\n",
    "    print(\"QR codes created and added sucessfully.........\")\n",
    "\n",
    "    \n",
    "\n",
    "elif ch_during_creating_qr_code==2:\n",
    "    creating_qr_code_AUTOMATICALLY_USING_DATABASE()\n",
    "\n",
    "\n"
   ]
  }
 ],
 "metadata": {
  "kernelspec": {
   "display_name": "Python 3",
   "language": "python",
   "name": "python3"
  },
  "language_info": {
   "codemirror_mode": {
    "name": "ipython",
    "version": 3
   },
   "file_extension": ".py",
   "mimetype": "text/x-python",
   "name": "python",
   "nbconvert_exporter": "python",
   "pygments_lexer": "ipython3",
   "version": "3.8.8"
  }
 },
 "nbformat": 4,
 "nbformat_minor": 5
}
