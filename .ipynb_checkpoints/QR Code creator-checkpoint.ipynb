{
 "cells": [
  {
   "cell_type": "markdown",
   "id": "9a521749",
   "metadata": {},
   "source": [
    "# PYTHON QR CODE"
   ]
  },
  {
   "cell_type": "markdown",
   "id": "b6681f01",
   "metadata": {},
   "source": [
    "## 1)installing and importing modules"
   ]
  },
  {
   "cell_type": "code",
   "execution_count": 34,
   "id": "9e24d7ec",
   "metadata": {},
   "outputs": [
    {
     "name": "stderr",
     "output_type": "stream",
     "text": [
      "ERROR: Could not find a version that satisfies the requirement ImageOps\n",
      "ERROR: No matching distribution found for ImageOps\n"
     ]
    }
   ],
   "source": [
    "#! pip install opencv-python\n",
    "#! pip install pyqrcode\n",
    "#! pip install qrcode\n",
    "#! pip install pypng\n",
    "#! pip install cv\n",
    "#! pip install pillow\n",
    "#! pip install MyQR\n",
    "#! pip install segno\n",
    "#! pip install qrcode-artistic\n"
   ]
  },
  {
   "cell_type": "code",
   "execution_count": 33,
   "id": "681e46c8",
   "metadata": {},
   "outputs": [
    {
     "ename": "ModuleNotFoundError",
     "evalue": "No module named 'pillow'",
     "output_type": "error",
     "traceback": [
      "\u001b[1;31m---------------------------------------------------------------------------\u001b[0m",
      "\u001b[1;31mModuleNotFoundError\u001b[0m                       Traceback (most recent call last)",
      "\u001b[1;32m<ipython-input-33-e24cc4361b22>\u001b[0m in \u001b[0;36m<module>\u001b[1;34m\u001b[0m\n\u001b[0;32m      5\u001b[0m \u001b[1;32mfrom\u001b[0m \u001b[0mPIL\u001b[0m \u001b[1;32mimport\u001b[0m \u001b[0mImage\u001b[0m\u001b[1;33m,\u001b[0m \u001b[0mImageDraw\u001b[0m\u001b[1;33m,\u001b[0m \u001b[0mImageFilter\u001b[0m\u001b[1;33m\u001b[0m\u001b[1;33m\u001b[0m\u001b[0m\n\u001b[0;32m      6\u001b[0m \u001b[1;32mimport\u001b[0m \u001b[0msegno\u001b[0m\u001b[1;33m\u001b[0m\u001b[1;33m\u001b[0m\u001b[0m\n\u001b[1;32m----> 7\u001b[1;33m \u001b[1;32mimport\u001b[0m \u001b[0mpillow\u001b[0m\u001b[1;33m\u001b[0m\u001b[1;33m\u001b[0m\u001b[0m\n\u001b[0m\u001b[0;32m      8\u001b[0m \u001b[1;33m\u001b[0m\u001b[0m\n",
      "\u001b[1;31mModuleNotFoundError\u001b[0m: No module named 'pillow'"
     ]
    }
   ],
   "source": [
    "import pyqrcode\n",
    "from PIL import Image,ImageOps\n",
    "import cv2\n",
    "import numpy as np\n",
    "from PIL import Image, ImageDraw, ImageFilter\n",
    "import segno\n",
    "import pillow\n",
    "\n"
   ]
  },
  {
   "cell_type": "markdown",
   "id": "a7d7845b",
   "metadata": {},
   "source": [
    "## 2)Creating QR code"
   ]
  },
  {
   "cell_type": "code",
   "execution_count": 72,
   "id": "701429e8",
   "metadata": {},
   "outputs": [],
   "source": [
    "for i in range (1,6):\n",
    "    name='A'+ str(i)\n",
    "\n",
    "\n",
    "    qr = segno.make('PRODUCT ID : A12 jdsahgjfskga ',micro=False, mask=7)\n",
    "\n",
    "\n",
    "    img = qr.to_pil(scale=73,\n",
    "                border=0,\n",
    "                dark=(218,84,105),\n",
    "                light='white',\n",
    "                finder_dark='gray',\n",
    "                alignment_dark=(218,84,105),\n",
    "                data_dark=(218,84,105)\n",
    "                )\n",
    "                \n",
    "    img.save('./QRCODES/'+name+' finalQR.png')\n",
    "\n",
    "\n"
   ]
  },
  {
   "cell_type": "markdown",
   "id": "cff47318",
   "metadata": {},
   "source": [
    "## 3)Adding background to the QR code"
   ]
  },
  {
   "cell_type": "code",
   "execution_count": 69,
   "id": "b63b09d3",
   "metadata": {},
   "outputs": [],
   "source": [
    "im1 = Image.open('./RESOURCES/background.jpg')\n",
    "im2 = Image.open('./QRCODES/'+name+' finalQR.png')\n",
    "\n",
    "back_im = im1.copy()\n",
    "\n",
    "back_im.paste(im2,(600,580))\n",
    "\n",
    "back_im.save('./QRCODES/'+name+' finalQR.png', quality=100)\n"
   ]
  },
  {
   "cell_type": "markdown",
   "id": "714a115a",
   "metadata": {},
   "source": [
    "## 4)Resizing the final QR code(the one with bg)"
   ]
  },
  {
   "cell_type": "code",
   "execution_count": 70,
   "id": "4beca781",
   "metadata": {},
   "outputs": [],
   "source": [
    "basewidth = 100\n",
    "img = Image.open('./QRCODES/'+name+' finalQR.png')\n",
    "wpercent = (basewidth / float(img.size[0]))\n",
    "hsize = int((float(img.size[1]) * float(wpercent)))\n",
    "img = img.resize((basewidth, hsize), Image.ANTIALIAS)\n",
    "img.save('./QRCODES/'+name+' finalQR.png')"
   ]
  },
  {
   "cell_type": "markdown",
   "id": "71dce9bd",
   "metadata": {},
   "source": [
    "## 5)Adding white border to final QR code"
   ]
  },
  {
   "cell_type": "code",
   "execution_count": 47,
   "id": "ad0cb1f9",
   "metadata": {},
   "outputs": [],
   "source": [
    "# open image\n",
    "img = Image.open(\"./QRCODES/\"+name+\" finalQR.png\")\n",
    "\n",
    "# border color\n",
    "color = \"black\"\n",
    "\n",
    "# top, right, bottom, left\n",
    "border = (10, 1, 10, 1)\n",
    "\n",
    "new_img = ImageOps.expand(img, border=border, fill=color)\n",
    "\n",
    "# save new image\n",
    "new_img.save('./QRCODES/'+name+' finalQR.png')"
   ]
  },
  {
   "cell_type": "markdown",
   "id": "28f99bc4",
   "metadata": {},
   "source": [
    "## 6)Pasting QR code onto the image"
   ]
  },
  {
   "cell_type": "code",
   "execution_count": 71,
   "id": "93e80088",
   "metadata": {},
   "outputs": [],
   "source": [
    "im1 = Image.open('./Bag Images/download2.jpg')\n",
    "im2 = Image.open('./QRCODES/'+name+' finalQR.png')\n",
    "\n",
    "back_im = im1.copy()\n",
    "#pos = (im1.size[0] - im2.size[0], im1.size[1] - im2.size[1])\n",
    "back_im.paste(im2, (100,400))\n",
    "back_im.save('./OUTPUT/'+name+'.png', quality=1000)\n"
   ]
  },
  {
   "cell_type": "markdown",
   "id": "cbd082a3",
   "metadata": {},
   "source": [
    "# FINAL PROGRAM ALL TOGETHER"
   ]
  },
  {
   "cell_type": "code",
   "execution_count": 23,
   "id": "c78125ea",
   "metadata": {},
   "outputs": [
    {
     "ename": "FileNotFoundError",
     "evalue": "[Errno 2] No such file or directory: 'download2.jpg'",
     "output_type": "error",
     "traceback": [
      "\u001b[1;31m---------------------------------------------------------------------------\u001b[0m",
      "\u001b[1;31mFileNotFoundError\u001b[0m                         Traceback (most recent call last)",
      "\u001b[1;32m<ipython-input-23-f64cfab19461>\u001b[0m in \u001b[0;36m<module>\u001b[1;34m\u001b[0m\n\u001b[0;32m      3\u001b[0m \u001b[1;33m\u001b[0m\u001b[0m\n\u001b[0;32m      4\u001b[0m \u001b[1;33m\u001b[0m\u001b[0m\n\u001b[1;32m----> 5\u001b[1;33m \u001b[0mim1\u001b[0m \u001b[1;33m=\u001b[0m \u001b[0mImage\u001b[0m\u001b[1;33m.\u001b[0m\u001b[0mopen\u001b[0m\u001b[1;33m(\u001b[0m\u001b[1;34m'download2.jpg'\u001b[0m\u001b[1;33m)\u001b[0m\u001b[1;33m\u001b[0m\u001b[1;33m\u001b[0m\u001b[0m\n\u001b[0m\u001b[0;32m      6\u001b[0m \u001b[0mim2\u001b[0m \u001b[1;33m=\u001b[0m \u001b[0mImage\u001b[0m\u001b[1;33m.\u001b[0m\u001b[0mopen\u001b[0m\u001b[1;33m(\u001b[0m\u001b[0mname\u001b[0m\u001b[1;33m+\u001b[0m\u001b[1;34m'.png'\u001b[0m\u001b[1;33m)\u001b[0m\u001b[1;33m\u001b[0m\u001b[1;33m\u001b[0m\u001b[0m\n\u001b[0;32m      7\u001b[0m \u001b[1;33m\u001b[0m\u001b[0m\n",
      "\u001b[1;32m~\\anaconda3\\envs\\data\\lib\\site-packages\\PIL\\Image.py\u001b[0m in \u001b[0;36mopen\u001b[1;34m(fp, mode, formats)\u001b[0m\n\u001b[0;32m   2910\u001b[0m \u001b[1;33m\u001b[0m\u001b[0m\n\u001b[0;32m   2911\u001b[0m     \u001b[1;32mif\u001b[0m \u001b[0mfilename\u001b[0m\u001b[1;33m:\u001b[0m\u001b[1;33m\u001b[0m\u001b[1;33m\u001b[0m\u001b[0m\n\u001b[1;32m-> 2912\u001b[1;33m         \u001b[0mfp\u001b[0m \u001b[1;33m=\u001b[0m \u001b[0mbuiltins\u001b[0m\u001b[1;33m.\u001b[0m\u001b[0mopen\u001b[0m\u001b[1;33m(\u001b[0m\u001b[0mfilename\u001b[0m\u001b[1;33m,\u001b[0m \u001b[1;34m\"rb\"\u001b[0m\u001b[1;33m)\u001b[0m\u001b[1;33m\u001b[0m\u001b[1;33m\u001b[0m\u001b[0m\n\u001b[0m\u001b[0;32m   2913\u001b[0m         \u001b[0mexclusive_fp\u001b[0m \u001b[1;33m=\u001b[0m \u001b[1;32mTrue\u001b[0m\u001b[1;33m\u001b[0m\u001b[1;33m\u001b[0m\u001b[0m\n\u001b[0;32m   2914\u001b[0m \u001b[1;33m\u001b[0m\u001b[0m\n",
      "\u001b[1;31mFileNotFoundError\u001b[0m: [Errno 2] No such file or directory: 'download2.jpg'"
     ]
    }
   ],
   "source": [
    "# for loop\n",
    "\n",
    "\n",
    "\n",
    "im1 = Image.open('download2.jpg')\n",
    "im2 = Image.open(name+'.png')\n",
    "\n",
    "back_im = im1.copy()\n",
    "pos = (im1.size[0] - im2.size[0], im1.size[1] - im2.size[1])\n",
    "back_im.paste(im2, pos)\n",
    "back_im.save('Product id: '+name+'.jpg', quality=100)\n"
   ]
  },
  {
   "cell_type": "code",
   "execution_count": null,
   "id": "69b60bba",
   "metadata": {},
   "outputs": [],
   "source": []
  }
 ],
 "metadata": {
  "kernelspec": {
   "display_name": "Python 3",
   "language": "python",
   "name": "python3"
  },
  "language_info": {
   "codemirror_mode": {
    "name": "ipython",
    "version": 3
   },
   "file_extension": ".py",
   "mimetype": "text/x-python",
   "name": "python",
   "nbconvert_exporter": "python",
   "pygments_lexer": "ipython3",
   "version": "3.9.5"
  }
 },
 "nbformat": 4,
 "nbformat_minor": 5
}
